{
  "nbformat": 4,
  "nbformat_minor": 0,
  "metadata": {
    "colab": {
      "name": "Introduction_to_Logistic_Regression.ipynb",
      "version": "0.3.2",
      "provenance": [],
      "collapsed_sections": []
    },
    "kernelspec": {
      "display_name": "Python 3",
      "language": "python",
      "name": "python3"
    }
  },
  "cells": [
    {
      "metadata": {
        "id": "5ds868L1Sc3v",
        "colab_type": "text"
      },
      "cell_type": "markdown",
      "source": [
        "# Introduction to Logistic Regression in TensorFlow"
      ]
    },
    {
      "metadata": {
        "id": "R5JAHO1rSc3x",
        "colab_type": "code",
        "colab": {}
      },
      "cell_type": "code",
      "source": [
        "%matplotlib inline\n",
        "\n",
        "import numpy as np\n",
        "import matplotlib.pyplot as plt\n",
        "import tensorflow as tf\n",
        "from tqdm import trange         "
      ],
      "execution_count": 0,
      "outputs": []
    },
    {
      "metadata": {
        "id": "rqRXlCQmSc35",
        "colab_type": "text"
      },
      "cell_type": "markdown",
      "source": [
        "### MNIST Dataset"
      ]
    },
    {
      "metadata": {
        "id": "BmxiOKyXSc37",
        "colab_type": "text"
      },
      "cell_type": "markdown",
      "source": [
        "The MNIST dataset is very popular machine learning dataset, consisting of 70000 grayscale images of handwritten digits, of dimensions 28x28. We'll be using it as our example for this section of the tutorial, with the goal being to predict which the digit is in each image.\n",
        "\n",
        "<img src=\"figures/mnist.png\">\n",
        "\n",
        "Since it's such a common (and small) dataset, TensorFlow has commands for downloading and formatting the dataset conveniently baked in already:"
      ]
    },
    {
      "metadata": {
        "id": "MZarmpUlSc37",
        "colab_type": "code",
        "colab": {
          "base_uri": "https://localhost:8080/",
          "height": 85
        },
        "outputId": "4780f7b7-e0d4-40ab-a93f-37fe875f5a47"
      },
      "cell_type": "code",
      "source": [
        "from tensorflow.examples.tutorials.mnist import input_data\n",
        "mnist = input_data.read_data_sets(\"MNIST_data/\", one_hot=True)"
      ],
      "execution_count": 55,
      "outputs": [
        {
          "output_type": "stream",
          "text": [
            "Extracting MNIST_data/train-images-idx3-ubyte.gz\n",
            "Extracting MNIST_data/train-labels-idx1-ubyte.gz\n",
            "Extracting MNIST_data/t10k-images-idx3-ubyte.gz\n",
            "Extracting MNIST_data/t10k-labels-idx1-ubyte.gz\n"
          ],
          "name": "stdout"
        }
      ]
    },
    {
      "metadata": {
        "id": "DeiD_rS6Sc4B",
        "colab_type": "text"
      },
      "cell_type": "markdown",
      "source": [
        "Let's take a look at how the data is organized:"
      ]
    },
    {
      "metadata": {
        "id": "CfFYVPfVSc4C",
        "colab_type": "code",
        "colab": {
          "base_uri": "https://localhost:8080/",
          "height": 136
        },
        "outputId": "4c825670-2768-4134-a6d0-2ee55970c059"
      },
      "cell_type": "code",
      "source": [
        "# Dataset statistics\n",
        "print('Training image data: {0}'.format(mnist.train.images.shape))\n",
        "print('Validation image data: {0}'.format(mnist.validation.images.shape))\n",
        "print('Testing image data: {0}'.format(mnist.test.images.shape))\n",
        "print('28 x 28 = {0}'.format(28*28))\n",
        "\n",
        "print('\\nTest Labels: {0}'.format(mnist.test.labels.shape))\n",
        "labels = np.arange(10)\n",
        "num_labels = np.sum(mnist.test.labels, axis=0, dtype=np.int)\n",
        "print('Label distribution:{0}'.format(list(zip(labels, num_labels))))"
      ],
      "execution_count": 42,
      "outputs": [
        {
          "output_type": "stream",
          "text": [
            "Training image data: (55000, 784)\n",
            "Validation image data: (5000, 784)\n",
            "Testing image data: (10000, 784)\n",
            "28 x 28 = 784\n",
            "\n",
            "Test Labels: (10000, 10)\n",
            "Label distribution:[(0, 980), (1, 1135), (2, 1032), (3, 1010), (4, 982), (5, 892), (6, 958), (7, 1028), (8, 974), (9, 1009)]\n"
          ],
          "name": "stdout"
        }
      ]
    },
    {
      "metadata": {
        "id": "UypxTi8fUi4W",
        "colab_type": "code",
        "colab": {
          "base_uri": "https://localhost:8080/",
          "height": 316
        },
        "outputId": "b7bb990b-cfce-4ed8-d990-2ddbbddaa13d"
      },
      "cell_type": "code",
      "source": [
        "\n",
        "# Example image\n",
        "print('\\nTrain image 1 is labelled one-hot as {0}'.format(mnist.train.labels[1,:]))\n",
        "image = np.reshape(mnist.train.images[1,:],[28,28])\n",
        "plt.imshow(image, cmap='gray')"
      ],
      "execution_count": 43,
      "outputs": [
        {
          "output_type": "stream",
          "text": [
            "\n",
            "Train image 1 is labelled one-hot as [0. 0. 0. 1. 0. 0. 0. 0. 0. 0.]\n"
          ],
          "name": "stdout"
        },
        {
          "output_type": "execute_result",
          "data": {
            "text/plain": [
              "<matplotlib.image.AxesImage at 0x7f3783817898>"
            ]
          },
          "metadata": {
            "tags": []
          },
          "execution_count": 43
        },
        {
          "output_type": "display_data",
          "data": {
            "image/png": "[encoded data removed]",
            "text/plain": [
              "<matplotlib.figure.Figure at 0x7f3786b736a0>"
            ]
          },
          "metadata": {
            "tags": []
          }
        }
      ]
    },
    {
      "metadata": {
        "id": "MO__hWusSc4H",
        "colab_type": "text"
      },
      "cell_type": "markdown",
      "source": [
        "### Logistic Regression Model"
      ]
    },
    {
      "metadata": {
        "id": "DnT4RPN7Sc4I",
        "colab_type": "text"
      },
      "cell_type": "markdown",
      "source": [
        "Define the graph input: this is where we feed in our training images into the model. Since MNIST digits are pretty small and the model we're using is very simple, we'll feed them in as flat vectors."
      ]
    },
    {
      "metadata": {
        "id": "C-2DF_uMSc4J",
        "colab_type": "code",
        "colab": {}
      },
      "cell_type": "code",
      "source": [
        "# Define input placeholder\n",
        "x = tf.placeholder(tf.float32, [None, 784])\n"
      ],
      "execution_count": 0,
      "outputs": []
    },
    {
      "metadata": {
        "id": "OZYqTLexSc4N",
        "colab_type": "text"
      },
      "cell_type": "markdown",
      "source": [
        "To get our predicted probabilities of each digit, let's first start with the probability of a digit being a 3 like the image above. For our simple model, we start by applying a linear transformation. That is, we multiply each value of the input vector by a weight, sum them all together, and then add a bias. In equation form:\n",
        "\n",
        "\\begin{align}\n",
        "y_3 = \\sum_i w_{i,3} x_i + b_3\n",
        "\\end{align}\n",
        "\n",
        "The magnitude of this result $y_3$, we'll take as being correlated to our belief in how likely we think the input digit was a 3. The higher the value of $y_3$, the more likely we think the input image $x$ was a 3 (ie, we'd hope we'd get a relatively large value for $y_3$ for the above image). Remember though, our original goal was to identify all 10 digits, so we also have:\n",
        "\n",
        "\\begin{align*}\n",
        "y_0 =& \\sum_i w_{i,0} x_i + b_0 \\\\\n",
        "&\\vdots \\\\\n",
        "y_9 =& \\sum_i w_{i,9} x_i + b_9\n",
        "\\end{align*}\n",
        "\n",
        "We can express this in matrix form as:\n",
        "\n",
        "\\begin{align}\n",
        "y = W x + b \n",
        "\\end{align}\n",
        "\n",
        "To put this into our graph in TensorFlow, we need to define some Variables to hold the weights and biases:"
      ]
    },
    {
      "metadata": {
        "id": "V1PIHRtVSc4O",
        "colab_type": "code",
        "colab": {}
      },
      "cell_type": "code",
      "source": [
        "# Define linear transformation\n",
        "W = tf.Variable(tf.zeros([784, 10]))\n",
        "b = tf.Variable(tf.zeros([10]))\n",
        "y = tf.matmul(x, W) + b"
      ],
      "execution_count": 0,
      "outputs": []
    },
    {
      "metadata": {
        "id": "A5sFduzdSc4S",
        "colab_type": "text"
      },
      "cell_type": "markdown",
      "source": [
        "We can interpret these values (aka logits) $y$ as probabilities if we normalize them to be positive and add up to 1. In logistic regression, we do this with a softmax:\n",
        "\n",
        "\\begin{align}\n",
        "p(y_i) = \\text{softmax}(y_i) = \\frac{\\text{exp}(y_i)}{\\sum_j\\text{exp}(y_j)}\n",
        "\\end{align}\n",
        "\n",
        "Notice that because the range of the exponential function is always non-negative, and since we're normalizing by the sum, the softmax achieves the desired property of producing values between 0 and 1 that sum to 1. If we look at the case with only 2 classes, we see that the softmax is the multi-class extension of the binary sigmoid function: \n",
        "\n",
        "<img src=\"figures/Logistic-curve.png)\">\n",
        "\n",
        "Computing a softmax in TensorFlow is pretty easy, sort of*:\n",
        "\n",
        "*&#42;More on this later*"
      ]
    },
    {
      "metadata": {
        "id": "3NGaCqOzSc4U",
        "colab_type": "code",
        "colab": {}
      },
      "cell_type": "code",
      "source": [
        "# Softmax to probabilities\n",
        "py = tf.nn.softmax(y)"
      ],
      "execution_count": 0,
      "outputs": []
    },
    {
      "metadata": {
        "id": "mqXwEQHbSc4a",
        "colab_type": "text"
      },
      "cell_type": "markdown",
      "source": [
        "That defines our forward pass of our model! We now have a graph that performs a forward pass: given an input image, the graph returns the probabilities the model thinks the input is each of the 10 classes. Are we done?\n",
        "\n",
        "Not quite. We don't know the values of $W$ and $b$ yet. We're going to learn those by defining a loss and using gradient descent to do backpropagation. Essentially, we'll be taking the derivative with respect to each of the elements in $W$ and $b$ and wiggling them in a direction that reduces our loss.\n",
        "\n",
        "The loss we commonly use in classification is cross-entropy. Cross-entropy is a concept from information theory:\n",
        "\n",
        "\\begin{align}\n",
        "H_{y'}(y)=-\\sum_i y'_i \\text{log}(y_i)\n",
        "\\end{align}\n",
        "\n",
        "Cross-entropy not only captures how *correct* (max probability corresponds to the right answer) the model's answers are, it also accounts for how *confident* (high confidence in correct answers) they are. This encourages the model to produce very high probabilities for correct answers while driving down the probabilities for the wrong answers, instead of merely be satisfied with it being the argmax. \n",
        "\n",
        "In supervised models, we need labels to learn, so we create a placeholder for the labels in our training data:"
      ]
    },
    {
      "metadata": {
        "id": "jObJDLQ2Sc4c",
        "colab_type": "code",
        "colab": {}
      },
      "cell_type": "code",
      "source": [
        "# Define labels placeholder\n",
        "y_ = tf.placeholder(tf.float32, [None, 10])"
      ],
      "execution_count": 0,
      "outputs": []
    },
    {
      "metadata": {
        "id": "xLUsMDDsSc4f",
        "colab_type": "text"
      },
      "cell_type": "markdown",
      "source": [
        "The cross-entropy loss is pretty easy to implement:"
      ]
    },
    {
      "metadata": {
        "id": "_d3zKwlHSc4h",
        "colab_type": "code",
        "colab": {}
      },
      "cell_type": "code",
      "source": [
        "# Loss\n",
        "cross_entropy = tf.reduce_mean(-tf.reduce_sum(y_ * tf.log(py), reduction_indices=[1]))"
      ],
      "execution_count": 0,
      "outputs": []
    },
    {
      "metadata": {
        "id": "fOaIbfTtSc4m",
        "colab_type": "text"
      },
      "cell_type": "markdown",
      "source": [
        "In the old days, we would have to go through and derive all the gradients ourselves, then code them into our program. Nowadays, we have libraries to compute all the gradients automatically. Not only that, but TensorFlow comes with a whole suite of optimizers implementing various optimization algorithms. I'm not going to go into the details of why you should appreciate that right now, because I know that Prof David Carlson has an entire day's worth of material on optimization."
      ]
    },
    {
      "metadata": {
        "id": "qgVWIzKZSc4n",
        "colab_type": "code",
        "colab": {}
      },
      "cell_type": "code",
      "source": [
        "# Optimizer\n",
        "train_step = tf.train.GradientDescentOptimizer(0.05).minimize(cross_entropy)"
      ],
      "execution_count": 0,
      "outputs": []
    },
    {
      "metadata": {
        "id": "iAt_oXmsSc4t",
        "colab_type": "text"
      },
      "cell_type": "markdown",
      "source": [
        "### Model Training"
      ]
    },
    {
      "metadata": {
        "id": "kTFoIdYoSc4u",
        "colab_type": "text"
      },
      "cell_type": "markdown",
      "source": [
        "To train, we simply call the optimizer op we defined above. First though, we need to start a session and initialize our variables:"
      ]
    },
    {
      "metadata": {
        "id": "Re2jqSsfSc4v",
        "colab_type": "code",
        "colab": {}
      },
      "cell_type": "code",
      "source": [
        "# Create a session object and initialize all graph variables\n",
        "sess = tf.Session()\n",
        "sess.run(tf.global_variables_initializer())"
      ],
      "execution_count": 0,
      "outputs": []
    },
    {
      "metadata": {
        "id": "6Sb3DUdJSc42",
        "colab_type": "text"
      },
      "cell_type": "markdown",
      "source": [
        "There are much cleverer ways to design a training regimen that stop training once the model is converged and before it starts overfitting, but for this demo, we'll keep it simple:"
      ]
    },
    {
      "metadata": {
        "id": "6jMV24T5Sc45",
        "colab_type": "code",
        "colab": {
          "base_uri": "https://localhost:8080/",
          "height": 34
        },
        "outputId": "24f03323-27f2-42c9-a857-41f48feb2aa7"
      },
      "cell_type": "code",
      "source": [
        "# Train the model\n",
        "# trange is a tqdm function. It's the same as range, but adds a pretty progress bar\n",
        "for _ in trange(1000): \n",
        "    batch_xs, batch_ys = mnist.train.next_batch(100)\n",
        "    sess.run(train_step, feed_dict={x: batch_xs, y_: batch_ys})"
      ],
      "execution_count": 51,
      "outputs": [
        {
          "output_type": "stream",
          "text": [
            "100%|██████████| 1000/1000 [00:01<00:00, 807.35it/s]\n"
          ],
          "name": "stderr"
        }
      ]
    },
    {
      "metadata": {
        "id": "YEuAST0bSc5A",
        "colab_type": "text"
      },
      "cell_type": "markdown",
      "source": [
        "Notice, because of the way the dependency links are connected in our graph, running the optimizer requires an input to both the training image placeholder `x` and the training label placeholder `y_` (as it should). The values of all variables (`W` and `b`) are updated in place automatically by the optimizer."
      ]
    },
    {
      "metadata": {
        "id": "QZ3-yhrfSc5C",
        "colab_type": "text"
      },
      "cell_type": "markdown",
      "source": [
        "### Testing"
      ]
    },
    {
      "metadata": {
        "id": "0exnjCrOSc5D",
        "colab_type": "text"
      },
      "cell_type": "markdown",
      "source": [
        "Now let's see how we did! For every image in our test set, we run the data through the model, and take the digit in which we have the highest confidence as our answer. We then compute an accuracy by seeing how many we got correct:"
      ]
    },
    {
      "metadata": {
        "id": "stbxnwPoSc5G",
        "colab_type": "code",
        "colab": {
          "base_uri": "https://localhost:8080/",
          "height": 34
        },
        "outputId": "8cd382b5-8bfb-40bc-b0da-f6af38daa25e"
      },
      "cell_type": "code",
      "source": [
        "# Test trained model\n",
        "correct_prediction = tf.equal(tf.argmax(py, 1), tf.argmax(y_, 1))\n",
        "accuracy = tf.reduce_mean(tf.cast(correct_prediction, tf.float32))\n",
        "print('Test accuracy: {0}'.format(sess.run(accuracy, feed_dict={x: mnist.test.images, y_: mnist.test.labels})))"
      ],
      "execution_count": 52,
      "outputs": [
        {
          "output_type": "stream",
          "text": [
            "Test accuracy: 0.9003999829292297\n"
          ],
          "name": "stdout"
        }
      ]
    },
    {
      "metadata": {
        "id": "rulsB95bSc5K",
        "colab_type": "text"
      },
      "cell_type": "markdown",
      "source": [
        "Not bad for a simple model and a few lines of code.  Before we close the session, there's one more interesting thing we can do. Normally, it can be difficult to inspect exactly what the filters in a model are doing, but since this model is so simple, and the weights transform the data directly to their logits, we can actually visualize what the model's learning by simply plotting the weights. The results look pretty reasonable:"
      ]
    },
    {
      "metadata": {
        "id": "SEHgUT20Sc5L",
        "colab_type": "code",
        "colab": {
          "base_uri": "https://localhost:8080/",
          "height": 145
        },
        "outputId": "3f01b6e0-ee8d-4d34-e2b0-993494e10694"
      },
      "cell_type": "code",
      "source": [
        "# Get weights\n",
        "weights = sess.run(W)\n",
        "\n",
        "fig, ax = plt.subplots(1, 10, figsize=(20, 2))\n",
        "\n",
        "for digit in range(10):\n",
        "    ax[digit].imshow(weights[:,digit].reshape(28,28), cmap='gray')\n",
        "\n",
        "# Close session to finish\n",
        "sess.close()"
      ],
      "execution_count": 53,
      "outputs": [
        {
          "output_type": "display_data",
          "data": {
            "image/png": "[encoded data removed]",
            "text/plain": [
              "<matplotlib.figure.Figure at 0x7f37837cda20>"
            ]
          },
          "metadata": {
            "tags": []
          }
        }
      ]
    },
    {
      "metadata": {
        "id": "IZeq2o-vSc5Q",
        "colab_type": "text"
      },
      "cell_type": "markdown",
      "source": [
        "### The Full Code"
      ]
    },
    {
      "metadata": {
        "id": "XbWiVxcMSc5R",
        "colab_type": "text"
      },
      "cell_type": "markdown",
      "source": [
        "The entire model, with the complete model definition, training, and evaluation (but minus the weights visualization), is below. Note the slight difference when calculating the softmax; this is done for numerical stability purposes."
      ]
    },
    {
      "metadata": {
        "id": "DVJk7e6NSc5T",
        "colab_type": "code",
        "colab": {
          "base_uri": "https://localhost:8080/",
          "height": 119
        },
        "outputId": "8ed2bac0-b5d1-4546-8fe3-6cdc3b45a09e"
      },
      "cell_type": "code",
      "source": [
        "import tensorflow as tf\n",
        "from tqdm import trange\n",
        "from tensorflow.examples.tutorials.mnist import input_data\n",
        "\n",
        "# Import data\n",
        "mnist = input_data.read_data_sets(\"MNIST_data/\", one_hot=True)\n",
        "\n",
        "# Create the model\n",
        "x = tf.placeholder(tf.float32, [None, 784])\n",
        "W = tf.Variable(tf.zeros([784, 10]))\n",
        "b = tf.Variable(tf.zeros([10]))\n",
        "y = tf.matmul(x, W) + b\n",
        "\n",
        "# Define loss and optimizer\n",
        "y_ = tf.placeholder(tf.float32, [None, 10])\n",
        "cross_entropy = tf.reduce_mean(tf.nn.softmax_cross_entropy_with_logits(labels=y_, logits=y))\n",
        "train_step = tf.train.GradientDescentOptimizer(0.5).minimize(cross_entropy)\n",
        "\n",
        "# Create a Session object, initialize all variables\n",
        "sess = tf.Session()\n",
        "sess.run(tf.global_variables_initializer())\n",
        "\n",
        "# Train\n",
        "for _ in trange(1000):\n",
        "    batch_xs, batch_ys = mnist.train.next_batch(100)\n",
        "    sess.run(train_step, feed_dict={x: batch_xs, y_: batch_ys})\n",
        "\n",
        "# Test trained model\n",
        "correct_prediction = tf.equal(tf.argmax(y, 1), tf.argmax(y_, 1))\n",
        "accuracy = tf.reduce_mean(tf.cast(correct_prediction, tf.float32))\n",
        "print('Test accuracy: {0}'.format(sess.run(accuracy, feed_dict={x: mnist.test.images, y_: mnist.test.labels})))\n",
        "\n",
        "sess.close()"
      ],
      "execution_count": 54,
      "outputs": [
        {
          "output_type": "stream",
          "text": [
            "Extracting MNIST_data/train-images-idx3-ubyte.gz\n",
            "Extracting MNIST_data/train-labels-idx1-ubyte.gz\n",
            "Extracting MNIST_data/t10k-images-idx3-ubyte.gz\n",
            "Extracting MNIST_data/t10k-labels-idx1-ubyte.gz\n"
          ],
          "name": "stdout"
        },
        {
          "output_type": "stream",
          "text": [
            "100%|██████████| 1000/1000 [00:01<00:00, 735.38it/s]\n"
          ],
          "name": "stderr"
        },
        {
          "output_type": "stream",
          "text": [
            "Test accuracy: 0.916100025177002\n"
          ],
          "name": "stdout"
        }
      ]
    },
    {
      "metadata": {
        "id": "Eo1uEKpaSc5Y",
        "colab_type": "text"
      },
      "cell_type": "markdown",
      "source": [
        "Note: The accuracy from the full version directly above might return a slightly different test accuracy from the step-by-step version we first went through. This is because mnist.train.next_batch by default shuffles the order of the training data, so we're seeing the data in a different order.\n",
        "\n",
        "*Acknowledgment: Material adapted from the TensorFlow tutorial: https://www.tensorflow.org/get_started/*"
      ]
    }
  ]
}